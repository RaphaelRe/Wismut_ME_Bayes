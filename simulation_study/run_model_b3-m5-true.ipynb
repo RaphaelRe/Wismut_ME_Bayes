{
 "cells": [
  {
   "cell_type": "markdown",
   "id": "f5d92f23-4c0d-41e5-a571-58a5eb22fe92",
   "metadata": {},
   "source": [
    "# Simulation study\n",
    "### Setting:\n",
    "- $\\beta = 0.003$\n",
    "- $5000$ miners\n",
    "- No measurement error correction (using true data, i.e. X not Z)\n",
    "\n",
    "Written to `b3-5-true`"
   ]
  },
  {
   "cell_type": "code",
   "execution_count": 7,
   "id": "9aa8491b-41f1-4bb6-9506-193a862e9184",
   "metadata": {
    "tags": []
   },
   "outputs": [],
   "source": [
    "# general libraries\n",
    "import os\n",
    "import numpy as np\n",
    "import scipy.stats as stats\n",
    "import warnings\n",
    "import multiprocessing\n",
    "import time\n",
    "import matplotlib.pyplot as plt\n",
    "import seaborn as sns\n",
    "\n",
    "\n",
    "# sampling code\n",
    "import sys\n",
    "sys.path.append('..')\n",
    "import wismut.basics as basics\n",
    "from wismut.MCMC import MCMC\n",
    "import wismut.analyze_chains as ac\n",
    "path = os.getcwd() + \"/\""
   ]
  },
  {
   "cell_type": "markdown",
   "id": "7af31b89-e967-4311-b6e4-35f908d66035",
   "metadata": {
    "tags": []
   },
   "source": [
    "### Define prior parameters"
   ]
  },
  {
   "cell_type": "code",
   "execution_count": 8,
   "id": "c689c501",
   "metadata": {
    "tags": []
   },
   "outputs": [],
   "source": [
    "def generate_prior_parameters():\n",
    "    prior_parameters = {'beta': {'dist': \"normal\", 'mean': 0, 'sd': 200},\n",
    "                        'lambda1': {'dist': \"gamma\",'shape': 600,\n",
    "                                    'scale': 1 / 10000000,\n",
    "                                    'min': 0, 'max': 200\n",
    "                                    },\n",
    "                        'lambda2': {'dist': \"gamma\", 'shape': 12000,\n",
    "                                    'scale': 1 / 1000000,\n",
    "                                    'min': 0, 'max': 200\n",
    "                                    },\n",
    "                        'lambda3': {'dist': \"gamma\", 'shape': 46000,\n",
    "                                    'scale': 1 / 1000000,\n",
    "                                    'min': 0, 'max': 200\n",
    "                                    },\n",
    "                        'lambda4': {'dist': \"gamma\", 'shape': 1000,\n",
    "                                    'scale': 1 / 100000,\n",
    "                                    'min': 0, 'max': 200\n",
    "                                    },\n",
    "                        }\n",
    "    return prior_parameters\n",
    "\n"
   ]
  },
  {
   "cell_type": "markdown",
   "id": "ea254469-73a7-4430-b6a3-fc8cc07bcf8c",
   "metadata": {},
   "source": [
    "### Deinfe Proposal sds for MCMC"
   ]
  },
  {
   "cell_type": "code",
   "execution_count": 9,
   "id": "a7cac51b",
   "metadata": {
    "tags": []
   },
   "outputs": [],
   "source": [
    "def generate_proposal_sds(disease_model='cox'):\n",
    "    proposal_sd = {\n",
    "            'beta': 0.011 if disease_model == 'cox' else 0.00011*10,\n",
    "            'lambda1': 0.000211,\n",
    "            'lambda2': 0.000611,\n",
    "            'lambda3': 0.000611,\n",
    "            'lambda4': 0.000211,\n",
    "            }\n",
    "    return proposal_sd"
   ]
  },
  {
   "cell_type": "markdown",
   "id": "1d53bb39-d7ec-4827-b721-9caaad5e48c4",
   "metadata": {},
   "source": [
    "### Define Start values of Markov chains"
   ]
  },
  {
   "cell_type": "code",
   "execution_count": 10,
   "id": "1ad092fa",
   "metadata": {
    "tags": []
   },
   "outputs": [],
   "source": [
    "def generate_start_values(seed, chain, disease_model=\"cox_like\", me_correction=True):\n",
    "    np.random.seed(seed)\n",
    "    rnd = lambda: stats.uniform(loc=0.9, scale=0.2).rvs(1)[0]\n",
    "    \n",
    "    beta_true = 0.3 if disease_model == \"cox_like\" else 1.0\n",
    "    l1 = 0.00006\n",
    "    l2 = 0.00120\n",
    "    l3 = 0.00460\n",
    "    l4 = 0.01000\n",
    "\n",
    "    start_values = {chain: {'beta': beta_true * rnd(),\n",
    "                               'lambda1': l1 * rnd(),\n",
    "                               'lambda2': l2 * rnd(),\n",
    "                               'lambda3': l3 * rnd(),\n",
    "                               'lambda4': l4 * rnd(),\n",
    "                               }\n",
    "                    }\n",
    "    if not me_correction:\n",
    "        del start_values[chain]['prior_parameters']\n",
    "\n",
    "    return start_values\n"
   ]
  },
  {
   "cell_type": "markdown",
   "id": "5856e738-04c2-4985-bc90-ad0d296062ff",
   "metadata": {
    "tags": []
   },
   "source": [
    "### Define uncertainty characteristics"
   ]
  },
  {
   "cell_type": "code",
   "execution_count": 11,
   "id": "c6f8c3dc-a563-4142-8f31-952135564515",
   "metadata": {
    "tags": []
   },
   "outputs": [],
   "source": [
    "###########################\n",
    "# M1a M2 M2_Expert M3 M4\n",
    "###########################\n",
    "uncertainty_characteristics = {\n",
    "        'M1a': {'C_Rn_old': {'classical_error': {'sd': 0, 'structure': 'additive', 'proposal_sd': 0.1},\n",
    "                             'Berkson_error': {'sd': 0},\n",
    "                             'name_obs_values': 'C_Rn_old_true'\n",
    "                             },\n",
    "                'C_Rn_ref': {'classical_error': {'sd': 0, 'structure': 'additive', 'proposal_sd': 0.1},\n",
    "                             'Berkson_error': {'sd': 0},\n",
    "                             'name_obs_values': 'C_Rn_ref_true'\n",
    "                             },\n",
    "                'b': {'classical_error': {'sd': 0, 'structure': 'multiplicative', 'proposal_sd': 0.1},\n",
    "                      'Berkson_error': {'sd': 0, 'structure': 'multiplicative', 'proposal_sd': 0.1},\n",
    "                      'name_obs_values': 'b_Berkson'\n",
    "                      },\n",
    "                'tau_e': {'classical_error': {'sd': 0, 'structure': 'multiplicative', 'proposal_sd': 0.1},\n",
    "                          'Berkson_error': {'sd': 0, 'structure': 'multiplicative', 'proposal_sd': 0.1},\n",
    "                          'name_obs_values': 'tau_e_Berkson'\n",
    "                          },\n",
    "                'A': {'classical_error': {'sd': 0},\n",
    "                      'Berkson_error': {'sd': 0},\n",
    "                      'name_obs_values': 'A_calculated'\n",
    "                      },\n",
    "                'A_ref': {'classical_error': {'sd': 0},\n",
    "                          'Berkson_error': {'sd': 0},\n",
    "                          'name_obs_values': 'A_ref'\n",
    "                          },\n",
    "                'r': {'classical_error': {'sd': 0},\n",
    "                      'Berkson_error': {'sd': 0},\n",
    "                      'name_obs_values': 'r'\n",
    "                      },\n",
    "                },\n",
    "        'M2': {'C_Rn': {'classical_error': {'sd': 0, 'structure': 'additive', 'proposal_sd': 0.1},\n",
    "                        'Berkson_error': {'sd': 0},\n",
    "                        'name_obs_values': 'C_Rn_true'\n",
    "                        },\n",
    "               },\n",
    "        'M2_Expert': {'C_Exp': {'classical_error': {'sd': 0, 'structure': 'additive', 'proposal_sd': 0.1},\n",
    "                                'Berkson_error': {'sd': 0},\n",
    "                                'name_obs_values': 'C_Rn_true',\n",
    "                                },\n",
    "                   },\n",
    "        'M3': {'C_RPD': {'classical_error': {'sd': 0, 'structure': 'additive', 'proposal_sd': 0.1},\n",
    "                         'Berkson_error': {'sd': 0},\n",
    "                         'name_obs_values': 'C_Rn_true'\n",
    "                         },\n",
    "               'zeta': {'classical_error': {'sd': 0, 'structure': 'multiplicative', 'proposal_sd': 0.1},\n",
    "                        'Berkson_error': {'sd': 0, 'structure': 'multiplicative', 'proposal_sd': 0.1},\n",
    "                        'name_obs_values': 'c_Berkson'\n",
    "                        },\n",
    "               },\n",
    "        'M4': {'E_Rn': {'classical_error': {'sd': 0, 'structure': 'additive', 'proposal_sd': 0.1},\n",
    "                        'Berkson_error': {'sd': 0},\n",
    "                        'name_obs_values': 'C_Rn_true'\n",
    "                        },\n",
    "               },\n",
    "    \n",
    "        'activity': {'phi': {'classical_error': {'sd': 0, 'structure': 'multiplicative', 'proposal_sd': 0.1},\n",
    "                             'Berkson_error': {'sd': 0, 'structure': 'multiplicative', 'proposal_sd': 0.1},\n",
    "                             'name_obs_values': 'f_Berkson'\n",
    "                             },\n",
    "\n",
    "                     },\n",
    "        'working_time': {'omega': {'classical_error': {'sd': 0, 'structure': 'multiplicative', 'proposal_sd': 0.1},\n",
    "                                   'Berkson_error': {'sd': 0, 'structure': 'multiplicative', 'proposal_sd': 0.1},\n",
    "                                   'name_obs_values': 'w_Berkson'\n",
    "                                   }\n",
    "                         },\n",
    "        'equilibrium': {'gamma': {'classical_error': {'sd': 0, 'structure': 'multiplicative', 'proposal_sd': 0.01},\n",
    "                                  'Berkson_error': {'sd': 0, 'structure': 'multiplicative', 'proposal_sd': 0.1},\n",
    "                                  'name_obs_values': 'g_Berkson'\n",
    "                                  },\n",
    "                        },\n",
    "        }"
   ]
  },
  {
   "cell_type": "markdown",
   "id": "9cdff0c8-e91f-4617-8782-e5e68c38d4c6",
   "metadata": {
    "tags": []
   },
   "source": [
    "# # # #  only one chain\n",
    "data = basics.read_data(path + f\"../data/M1M2M2_ExpertM3M4-b3-5/Data_1.csv\")\n",
    "\n",
    "data['tau'] = 1\n",
    "\n",
    "disease_model = \"cox_like\"\n",
    "chain = 'chain1'\n",
    "seed = 123\n",
    "start_values = generate_start_values(seed=seed, chain=chain, disease_model=disease_model)\n",
    "proposal_sd = generate_proposal_sds()\n",
    "prior_parameters = generate_prior_parameters()\n",
    "\n",
    "s = np.array([0, 40, 55, 75, 104])\n",
    "path_results = path + '../results/simulation_study/b3-5-true/'\n",
    "mcmc = MCMC(data=data, uncertainty_characteristics=uncertainty_characteristics,\n",
    "            s=s, path_results=path_results, proposal_sd=proposal_sd,\n",
    "            prior_parameters=prior_parameters, start_values=start_values,\n",
    "            informative_priors=False, chain=chain,\n",
    "            disease_model=disease_model, fixed_parameters=False)\n",
    "\n",
    "iterations = 1000; burnin = 1; phases = 1; thin = 1\n",
    "mcmc.run_adaptive_algorithm(iterations=iterations, burnin=burnin,\n",
    "                            adaptive_phases=phases, save_chains=True,\n",
    "                            thin=thin)\n",
    "\n",
    "x = np.genfromtxt(path_results + 'chain1_results_beta.txt', delimiter=',')\n",
    "plt.plot(x); plt.show()"
   ]
  },
  {
   "cell_type": "markdown",
   "id": "ea9a32c9-296b-431c-b683-cd5fe2bb3378",
   "metadata": {},
   "source": [
    "### Define function to run one chain on one dataset"
   ]
  },
  {
   "cell_type": "code",
   "execution_count": 12,
   "id": "fc8064c5-0648-4f60-9651-ee4c56000217",
   "metadata": {
    "tags": []
   },
   "outputs": [],
   "source": [
    "def run_dataset(nb, seed, chain):\n",
    "    data = basics.read_data(path + f\"../data/M1M2M2_ExpertM3M4-b3-5/Data_{nb}.csv\")\n",
    "    data['tau'] = 1\n",
    "    path_results = path + f'../results/simulation_study/b3-5-true/{nb}/'\n",
    "    # print(path_results)\n",
    "    os.makedirs(path_results, exist_ok=True)\n",
    "\n",
    "    disease_model = 'cox_like'\n",
    "\n",
    "    start_values = generate_start_values(seed, chain, disease_model)\n",
    "    proposal_sd = generate_proposal_sds()\n",
    "    prior_parameters = generate_prior_parameters()\n",
    "    s = np.array([0, 40, 55, 75, 104])\n",
    "\n",
    "    mcmc = MCMC(data=data,uncertainty_characteristics=uncertainty_characteristics, s=s, path_results=path_results, proposal_sd=proposal_sd,\n",
    "            prior_parameters=prior_parameters, start_values=start_values,\n",
    "            informative_priors=False, chain=chain, \n",
    "            disease_model=disease_model, fixed_parameters=False)\n",
    "\n",
    "\n",
    "    iterations = 100_000; burnin = 20_000; phases = 100; thin = 100\n",
    "    # iterations = 10_000; burnin = 2_000; phases = 10; thin = 10\n",
    "    mcmc.run_adaptive_algorithm(iterations=iterations,\n",
    "                                burnin=burnin,\n",
    "                                adaptive_phases=phases,\n",
    "                                thin=thin,\n",
    "                                clear_display=True\n",
    "                               )"
   ]
  },
  {
   "cell_type": "markdown",
   "id": "a5fc1f6e-102c-46cd-8116-cf1ec2c81211",
   "metadata": {},
   "source": [
    "### Run 4 chains on 100 datasets"
   ]
  },
  {
   "cell_type": "code",
   "execution_count": null,
   "id": "b01460ba-fc2e-4272-a4c4-a229112f4820",
   "metadata": {
    "tags": []
   },
   "outputs": [
    {
     "name": "stdout",
     "output_type": "stream",
     "text": [
      "Adaptive phase 6\n"
     ]
    }
   ],
   "source": [
    "nb_data_sets = 100\n",
    "cores = 140\n",
    "cores = 35\n",
    "\n",
    "datasets = list(range(1,nb_data_sets+1))*4\n",
    "seeds = np.random.randint(2**32-1, size=nb_data_sets*4)\n",
    "chains = [*[\"chain1\"]*nb_data_sets, *[\"chain2\"]*nb_data_sets,  *[\"chain3\"]*nb_data_sets,  *[\"chain4\"]*nb_data_sets]\n",
    "arg_list = list(zip(datasets, seeds, chains))\n",
    "warnings.filterwarnings('ignore')\n",
    "\n",
    "t = time.time()\n",
    "with multiprocessing.Pool(cores) as pool:\n",
    "    res = pool.starmap(run_dataset, arg_list)\n",
    "t = time.time() - t\n",
    "print(\"Full calculation time: \" + str(time.time() - t))\n",
    "print(f\"Time in hours: {t/3600}\")"
   ]
  },
  {
   "cell_type": "code",
   "execution_count": 14,
   "id": "9264616c-29dd-4d3b-9b36-e34e1e95ae47",
   "metadata": {},
   "outputs": [
    {
     "name": "stdout",
     "output_type": "stream",
     "text": [
      "Full calculation time: 1740930620.9152997\n",
      "Time in hours: 17.659178157978587\n"
     ]
    }
   ],
   "source": [
    "print(\"Full calculation time: \" + str(time.time() - t))\n",
    "print(f\"Time in hours: {t/3600}\")\n",
    "# Full calculation time: 1716337568.6616385\n",
    "# Time in hours: 12.191403737531768"
   ]
  },
  {
   "cell_type": "markdown",
   "id": "ae7a04be-d20d-4764-a526-3fa87ba6b6e2",
   "metadata": {
    "tags": []
   },
   "source": [
    "## Load results and make diagnostics"
   ]
  },
  {
   "cell_type": "code",
   "execution_count": null,
   "id": "043c22fd-1c88-4f3b-84be-49efb9abe32a",
   "metadata": {
    "tags": []
   },
   "outputs": [],
   "source": [
    "samples = ac.load_traces_parameter(\"beta.txt\", \"../results/simulation_study/b3-5-true/\")"
   ]
  },
  {
   "cell_type": "code",
   "execution_count": null,
   "id": "c5be5063-8491-4102-add4-9958921f6d5b",
   "metadata": {
    "tags": []
   },
   "outputs": [],
   "source": [
    "ac.plot_chains_sim(samples, (1,20))"
   ]
  },
  {
   "cell_type": "code",
   "execution_count": null,
   "id": "ac2ce20b-4061-4044-ac6f-48161e816106",
   "metadata": {
    "tags": []
   },
   "outputs": [],
   "source": [
    "# Check results\n",
    "res_reduced = ac.reduce_results(samples, (1,101))\n",
    "inside = [ac.check_inside(0.3, res_reduced[k][\"hdi\"]) for k in range(1,101)]\n",
    "means = [res_reduced[k][\"mean\"] for k in range(1,101)]\n",
    "\n",
    "print(f\"Overalll mean: {np.array(means).mean()}\")\n",
    "print(f\"Valids: {np.array(inside).mean()}\")\n",
    "print(f\"Rhats (sorted): {np.sort(np.concatenate([x.to_array().to_numpy() for x in ac.calc_rhat(samples, (1,101), simplify=True)]))}\")"
   ]
  },
  {
   "cell_type": "markdown",
   "id": "467ce34a-20e4-4f0e-8257-6fbc8da8b657",
   "metadata": {},
   "source": [
    "### Lambda"
   ]
  },
  {
   "cell_type": "code",
   "execution_count": null,
   "id": "60945298-176e-42b0-97a7-1ec44db5aca2",
   "metadata": {
    "tags": []
   },
   "outputs": [],
   "source": [
    "l1 = ac.load_traces_parameter(\"lambda1.txt\", \"../results/simulation_study/b3-5-naive/\")\n",
    "l2 = ac.load_traces_parameter(\"lambda2.txt\", \"../results/simulation_study/b3-5-naive/\")\n",
    "l3 = ac.load_traces_parameter(\"lambda3.txt\", \"../results/simulation_study/b3-5-naive/\")\n",
    "l4 = ac.load_traces_parameter(\"lambda4.txt\", \"../results/simulation_study/b3-5-naive/\")\n",
    "\n",
    "print(f\"Rhats lambda1: {np.concatenate([x.to_array().to_numpy() for x in ac.calc_rhat(l1, (1,101), simplify=True)])}\")\n",
    "print(f\"Rhats lambda2: {np.concatenate([x.to_array().to_numpy() for x in ac.calc_rhat(l2, (1,101), simplify=True)])}\")\n",
    "print(f\"Rhats lambda3: {np.concatenate([x.to_array().to_numpy() for x in ac.calc_rhat(l3, (1,101), simplify=True)])}\")\n",
    "print(f\"Rhats lambda4: {np.concatenate([x.to_array().to_numpy() for x in ac.calc_rhat(l4, (1,101), simplify=True)])}\")"
   ]
  },
  {
   "cell_type": "code",
   "execution_count": null,
   "id": "b9f3f753-2207-4dbd-b5f4-d7f23477d1b0",
   "metadata": {
    "tags": []
   },
   "outputs": [],
   "source": [
    "l1_reduced = ac.reduce_results(l1, (1,101))\n",
    "l2_reduced = ac.reduce_results(l2, (1,101))\n",
    "l3_reduced = ac.reduce_results(l3, (1,101))\n",
    "l4_reduced = ac.reduce_results(l4, (1,101))\n",
    "\n",
    "l1_means = [l1_reduced[k][\"mean\"] for k in range(1,101)]\n",
    "l2_means = [l2_reduced[k][\"mean\"] for k in range(1,101)]\n",
    "l3_means = [l3_reduced[k][\"mean\"] for k in range(1,101)]\n",
    "l4_means = [l4_reduced[k][\"mean\"] for k in range(1,101)]\n",
    "\n",
    "print(f\"Overalll mean: {np.array(l1_means).mean()}\")\n",
    "print(f\"Overalll mean: {np.array(l2_means).mean()}\")\n",
    "print(f\"Overalll mean: {np.array(l3_means).mean()}\")\n",
    "print(f\"Overalll mean: {np.array(l4_means).mean()}\")"
   ]
  }
 ],
 "metadata": {
  "kernelspec": {
   "display_name": "Python 3 (ipykernel)",
   "language": "python",
   "name": "python3"
  },
  "language_info": {
   "codemirror_mode": {
    "name": "ipython",
    "version": 3
   },
   "file_extension": ".py",
   "mimetype": "text/x-python",
   "name": "python",
   "nbconvert_exporter": "python",
   "pygments_lexer": "ipython3",
   "version": "3.12.7"
  }
 },
 "nbformat": 4,
 "nbformat_minor": 5
}
