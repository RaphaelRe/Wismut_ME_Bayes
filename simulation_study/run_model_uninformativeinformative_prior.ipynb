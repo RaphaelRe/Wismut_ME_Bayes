{
 "cells": [
  {
   "cell_type": "markdown",
   "id": "f5d92f23-4c0d-41e5-a571-58a5eb22fe92",
   "metadata": {},
   "source": [
    "# Simulation study\n",
    "### Setting:\n",
    "- $\\beta = 0.006$\n",
    "- $10000$ miners\n",
    "- Measurement error correction\n",
    "- uninfrmative prior with cox, i.e. $\\beta \\sim N(0,200)$\n",
    "\n",
    "Written to `b6-10`"
   ]
  },
  {
   "cell_type": "code",
   "execution_count": 1,
   "id": "9aa8491b-41f1-4bb6-9506-193a862e9184",
   "metadata": {
    "tags": []
   },
   "outputs": [],
   "source": [
    "# general libraries\n",
    "import os\n",
    "import numpy as np\n",
    "import scipy.stats as stats\n",
    "import warnings\n",
    "import multiprocessing\n",
    "import time\n",
    "import matplotlib.pyplot as plt\n",
    "import seaborn as sns\n",
    "\n",
    "\n",
    "# sampling code\n",
    "import sys\n",
    "sys.path.append('..')\n",
    "import wismut.basics as basics\n",
    "from wismut.MCMC import MCMC\n",
    "import wismut.analyze_chains as ac\n",
    "path = os.getcwd() + \"/\""
   ]
  },
  {
   "cell_type": "markdown",
   "id": "7af31b89-e967-4311-b6e4-35f908d66035",
   "metadata": {
    "tags": []
   },
   "source": [
    "### Define prior parameters"
   ]
  },
  {
   "cell_type": "code",
   "execution_count": 3,
   "id": "c689c501",
   "metadata": {
    "tags": []
   },
   "outputs": [],
   "source": [
    "def generate_prior_parameters():\n",
    "    prior_parameters = {'beta': {'dist': \"normal\", 'mean': 0, 'sd': 200},\n",
    "                        'lambda1': {'dist': \"gamma\",'shape': 600,\n",
    "                                    'scale': 1 / 10000000,\n",
    "                                    'min': 0, 'max': 200\n",
    "                                    },\n",
    "                        'lambda2': {'dist': \"gamma\", 'shape': 12000,\n",
    "                                    'scale': 1 / 1000000,\n",
    "                                    'min': 0, 'max': 200\n",
    "                                    },\n",
    "                        'lambda3': {'dist': \"gamma\", 'shape': 46000,\n",
    "                                    'scale': 1 / 1000000,\n",
    "                                    'min': 0, 'max': 200\n",
    "                                    },\n",
    "                        'lambda4': {'dist': \"gamma\", 'shape': 1000,\n",
    "                                    'scale': 1 / 100000,\n",
    "                                    'min': 0, 'max': 200\n",
    "                                    },\n",
    "                        'C_Rn_mu': {'dist': \"normal\", 'mean': 6, 'sd': 5},\n",
    "                        'C_Rn_sigma': {'dist': \"normal\", 'mean': 8, 'sd': 0.5},\n",
    "                        'C_Exp_mu': {'dist': \"normal\", 'mean': 1.78, 'sd': 3},\n",
    "                        'C_Exp_sigma': {'dist': \"normal\", 'mean': 0.79, 'sd': 2},\n",
    "                        'C_RPD_mu': {'dist': \"normal\", 'mean': 0.15, 'sd': 0.03},\n",
    "                        'C_RPD_sigma': {'dist': \"normal\", 'mean': 0.2, 'sd': 0.03},\n",
    "                        'zeta_alpha': {'dist': \"normal\", 'mean': 3, 'sd': 2},\n",
    "                        'zeta_beta': {'dist': \"normal\", 'mean': 3, 'sd': 2},\n",
    "                        'gamma_alpha': {'dist': \"normal\", 'mean': 3, 'sd': 2},\n",
    "                        'gamma_beta': {'dist': \"normal\", 'mean': 3, 'sd': 2},\n",
    "                        'phi_alpha': {'dist': \"normal\", 'mean': 3, 'sd': 2},\n",
    "                        'phi_beta': {'dist': \"normal\", 'mean': 3, 'sd': 2},\n",
    "                        'omega_alpha': {'dist': \"normal\", 'mean': 3, 'sd': 2},\n",
    "                        'omega_beta': {'dist': \"normal\", 'mean': 3, 'sd': 2},\n",
    "                        }\n",
    "    return prior_parameters\n",
    "\n"
   ]
  },
  {
   "cell_type": "markdown",
   "id": "ea254469-73a7-4430-b6a3-fc8cc07bcf8c",
   "metadata": {},
   "source": [
    "### Deinfe Proposal sds for MCMC"
   ]
  },
  {
   "cell_type": "code",
   "execution_count": 4,
   "id": "a7cac51b",
   "metadata": {
    "tags": []
   },
   "outputs": [],
   "source": [
    "def generate_proposal_sds(disease_model='cox'):\n",
    "    proposal_sd = {\n",
    "            'beta': 0.011 if disease_model == 'cox' else 0.00011*10,\n",
    "            'lambda1': 0.000211,\n",
    "            'lambda2': 0.000611,\n",
    "            'lambda3': 0.000611,\n",
    "            'lambda4': 0.000211,\n",
    "            'C_Rn_old_mu': 0.2,\n",
    "            'C_Rn_old_sigma': 0.2,\n",
    "            'C_Rn_ref_mu': 0.2,\n",
    "            'C_Rn_ref_sigma': 0.2,\n",
    "            'C_Rn_mu': 0.2,\n",
    "            'C_Rn_sigma': 0.2,\n",
    "            'C_RPD_mu': 0.2,\n",
    "            'C_RPD_sigma': 0.2,\n",
    "            'C_Exp_mu': 0.4,\n",
    "            'C_Exp_sigma': 0.5,\n",
    "            'zeta_alpha': 0.5,\n",
    "            'zeta_beta': 0.5,\n",
    "            'gamma_alpha': 0.5,\n",
    "            'gamma_beta': 0.5,\n",
    "            'phi_alpha': 0.5,\n",
    "            'phi_beta': 0.5,\n",
    "            'omega_alpha': 0.5,\n",
    "            'omega_beta': 0.5,\n",
    "            }\n",
    "    return proposal_sd"
   ]
  },
  {
   "cell_type": "markdown",
   "id": "1d53bb39-d7ec-4827-b721-9caaad5e48c4",
   "metadata": {},
   "source": [
    "### Define Start values of Markov chains"
   ]
  },
  {
   "cell_type": "code",
   "execution_count": 5,
   "id": "1ad092fa",
   "metadata": {
    "tags": []
   },
   "outputs": [],
   "source": [
    "def generate_start_values(seed, chain, disease_model=\"cox_like\", me_correction=True):\n",
    "    np.random.seed(seed)\n",
    "    rnd = lambda: stats.uniform(loc=0.9, scale=0.2).rvs(1)[0]\n",
    "    \n",
    "    beta_true = 0.6 if disease_model == \"cox_like\" else 1.0\n",
    "    l1 = 0.00006\n",
    "    l2 = 0.00120\n",
    "    l3 = 0.00460\n",
    "    l4 = 0.01000\n",
    "\n",
    "    start_values = {chain: {'beta': beta_true * rnd(),\n",
    "                               'lambda1': l1 * rnd(),\n",
    "                               'lambda2': l2 * rnd(),\n",
    "                               'lambda3': l3 * rnd(),\n",
    "                               'lambda4': l4 * rnd(),\n",
    "                               # values for truncnorm\n",
    "                               'prior_parameters': {\n",
    "                                                    'M2': {'C_Rn': {'mu': 6 * rnd(),\n",
    "                                                                    'sigma': 8 * rnd()\n",
    "                                                                    },\n",
    "                                                           },\n",
    "                                                    'M2_Expert': {'C_Exp': {'mu': 1.78 * rnd(),\n",
    "                                                                            'sigma': 0.79 * rnd()\n",
    "                                                                            },\n",
    "                                                                  },\n",
    "                                                    'M3': {'C_RPD': {'mu': 0.15 * rnd(),\n",
    "                                                                    'sigma': 0.2 * rnd()\n",
    "                                                                     },\n",
    "                                                           'zeta': {'alpha': 3 * rnd(),\n",
    "                                                                    'beta': 3 * rnd()\n",
    "                                                                    }\n",
    "                                                           },\n",
    "                                                    'equilibrium': {'gamma': {'alpha': 3 * rnd(),\n",
    "                                                                              'beta': 3 * rnd()\n",
    "                                                                              }\n",
    "                                                                    },\n",
    "                                                    'activity': {'phi': {'alpha': 3 * rnd(),\n",
    "                                                                         'beta': 3 * rnd()\n",
    "                                                                         }\n",
    "                                                                 },\n",
    "                                                    'working_time': {'omega': {'alpha': 3 * rnd(),\n",
    "                                                                               'beta': 3 * rnd()\n",
    "                                                                                }\n",
    "                                                                     },\n",
    "                                                    }\n",
    "                               }\n",
    "                    }\n",
    "    if not me_correction:\n",
    "        del start_values[chain]['prior_parameters']\n",
    "\n",
    "    return start_values\n"
   ]
  },
  {
   "cell_type": "markdown",
   "id": "5856e738-04c2-4985-bc90-ad0d296062ff",
   "metadata": {
    "tags": []
   },
   "source": [
    "### Define uncertainty characteristics"
   ]
  },
  {
   "cell_type": "code",
   "execution_count": 6,
   "id": "c6f8c3dc-a563-4142-8f31-952135564515",
   "metadata": {
    "tags": []
   },
   "outputs": [],
   "source": [
    "###########################\n",
    "# M1a M2 M2_Expert M3 M4\n",
    "###########################\n",
    "uncertainty_characteristics = {\n",
    "        'M1a': {'C_Rn_old': {'classical_error': {'sd': 6.56, 'structure': 'additive', 'proposal_sd': 1.5},\n",
    "                             # 'classical_error': {'sd': 0, 'structure': 'additive', 'proposal_sd': 0.1},\n",
    "                             'Berkson_error': {'sd': 0},\n",
    "                             'exposure_model_distribution': 'norm',\n",
    "                             'exposure_model_parameters': {'mu': 22.5, 'sigma': 4},  # 4 is arbitrary\n",
    "                             'exposure_model_truncation': {'lower': 1e-10},\n",
    "                             'mapping_identifier_classical': ['cluster_C_Rn_old'],  # empty on purpose\n",
    "                             'name_obs_values': 'C_Rn_old'\n",
    "                             # 'name_obs_values': 'C_Rn_old_true'\n",
    "                             },\n",
    "                'C_Rn_ref': {'classical_error': {'sd': 5.29, 'structure': 'additive', 'proposal_sd': 1.0},\n",
    "                             # 'classical_error': {'sd': 0, 'structure': 'additive', 'proposal_sd': 0.1},\n",
    "                             'Berkson_error': {'sd': 0},\n",
    "                             'exposure_model_distribution': 'norm',\n",
    "                             'exposure_model_parameters': {'mu': 27.3, 'sigma': 4},  # 4 is arbitrary\n",
    "\n",
    "                             'exposure_model_truncation': {'lower': 1e-10},\n",
    "                             'mapping_identifier_classical': ['cluster_C_Rn_obs_ref'],  # empty on purpose\n",
    "                             'name_obs_values': 'C_Rn_obs_ref'\n",
    "                             # 'name_obs_values': 'C_Rn_ref_true'\n",
    "                             },\n",
    "                'b': {'classical_error': {'sd': 0.33, 'structure': 'multiplicative', 'proposal_sd': 0.1},\n",
    "                      # 'classical_error': {'sd': 0, 'structure': 'multiplicative', 'proposal_sd': 0.1},\n",
    "                      'Berkson_error': {'sd': 0.69, 'structure': 'multiplicative', 'proposal_sd': 0.1},\n",
    "                      # 'Berkson_error': {'sd': 0, 'structure': 'multiplicative', 'proposal_sd': 0.1},\n",
    "                      'exposure_model_distribution': 'beta',\n",
    "                      'exposure_model_parameters': {'alpha': 3, 'beta': 3},\n",
    "                      'exposure_model_truncation': {'lower': 0.17, 'upper': 1},\n",
    "                      'mapping_identifier_classical': ['b_period'],\n",
    "                      'mapping_identifier_Berkson': ['year', 'object'],\n",
    "                      'name_obs_values': 'b'\n",
    "                      # 'name_obs_values': 'b_Berkson'\n",
    "                      },\n",
    "                'tau_e': {'classical_error': {'sd': 0.37, 'structure': 'multiplicative', 'proposal_sd': 0.1},\n",
    "                          # 'classical_error': {'sd': 0, 'structure': 'multiplicative', 'proposal_sd': 0.1},\n",
    "                          'Berkson_error': {'sd': 0.33, 'structure': 'multiplicative', 'proposal_sd': 0.1},\n",
    "                          # 'Berkson_error': {'sd': 0, 'structure': 'multiplicative', 'proposal_sd': 0.1},\n",
    "                          'exposure_model_distribution': 'beta',\n",
    "                          'exposure_model_parameters': {'alpha': 3, 'beta': 3},\n",
    "                          'exposure_model_truncation': {'lower': 0.46, 'upper': 1},\n",
    "                          'mapping_identifier_classical': ['tau_e_period'],  # stimmat das?\n",
    "                          'mapping_identifier_Berkson': ['year','object'],  # stimmt das?\n",
    "                          'name_obs_values': 'tau_e'\n",
    "                          # 'name_obs_values': 'tau_e_Berkson'\n",
    "                          },\n",
    "                'A': {'classical_error': {'sd': 0},\n",
    "                      'Berkson_error': {'sd': 0},\n",
    "                      'name_obs_values': 'A_calculated'  # hieß vor langer Zeit einmal A_t_o\n",
    "                      },\n",
    "                'A_ref': {'classical_error': {'sd': 0},\n",
    "                          'Berkson_error': {'sd': 0},\n",
    "                          'name_obs_values': 'A_ref'\n",
    "                          },\n",
    "                'r': {'classical_error': {'sd': 0},\n",
    "                      'Berkson_error': {'sd': 0},\n",
    "                      'name_obs_values': 'r'\n",
    "                      },\n",
    "                },\n",
    "        'M2': {'C_Rn': {'classical_error': {'sd': 0.59, 'structure': 'additive', 'proposal_sd': 0.1},\n",
    "                        # 'classical_error': {'sd': 0, 'structure': 'additive', 'proposal_sd': 0.1},\n",
    "                        'Berkson_error': {'sd': 0},\n",
    "                        'exposure_model_distribution': 'norm',\n",
    "                        'exposure_model_parameters': {'mu': 6, 'sigma': 8},\n",
    "                        'exposure_model_truncation': {'lower': 1e-10},\n",
    "                        'mapping_identifier_classical': ['year', 'object'],\n",
    "                        'name_obs_values': 'C_Rn_obs'\n",
    "                        # 'name_obs_values': 'C_Rn_true'\n",
    "                        # ???? 'vectorized_exposure': True\n",
    "                        },\n",
    "               },\n",
    "        'M2_Expert': {'C_Exp': {'classical_error': {'sd': 0.936, 'structure': 'multiplicative', 'proposal_sd': 0.1},\n",
    "                                # 'classical_error': {'sd': 0, 'structure': 'additive', 'proposal_sd': 0.1},\n",
    "                                'Berkson_error': {'sd': 0},\n",
    "                                'exposure_model_distribution': 'lognorm',\n",
    "                                'exposure_model_parameters': {'mu': 1.78, 'sigma': 0.79},\n",
    "                                'exposure_model_truncation': {'lower': 1e-10},\n",
    "                                'mapping_identifier_classical': ['year', 'object'],\n",
    "                                'name_obs_values': 'C_Rn_obs',\n",
    "                                },\n",
    "                   },\n",
    "        'M3': {'C_RPD': {'classical_error': {'sd': 0.03, 'structure': 'additive', 'proposal_sd': 0.001},\n",
    "                         # 'classical_error': {'sd': 0, 'structure': 'additive', 'proposal_sd': 0.1},\n",
    "                         # 'Berkson_error': {'sd': 0.2, 'structure': 'multiplicative', 'proposal_sd': 0.05},\n",
    "                         'Berkson_error': {'sd': 0},\n",
    "                         'exposure_model_distribution': 'norm',\n",
    "                         'exposure_model_parameters': {'mu': 0.15, 'sigma': 0.2},\n",
    "                         'exposure_model_truncation': {'lower': 1e-10},\n",
    "                         'mapping_identifier_classical': ['year', 'object'],\n",
    "                         'name_obs_values': 'C_Rn_obs'\n",
    "                         # 'name_obs_values': 'C_Rn_true'\n",
    "                        # ????? 'vectorized_exposure': True\n",
    "                         },\n",
    "               'zeta': {'classical_error': {'sd': 0.33, 'structure': 'multiplicative', 'proposal_sd': 0.1},\n",
    "                        # 'classical_error': {'sd': 0, 'structure': 'multiplicative', 'proposal_sd': 0.1},\n",
    "                        'Berkson_error': {'sd': 0.69, 'structure': 'multiplicative', 'proposal_sd': 0.1},\n",
    "                        # 'Berkson_error': {'sd': 0, 'structure': 'multiplicative', 'proposal_sd': 0.1},\n",
    "                        'exposure_model_distribution': 'beta',\n",
    "                        'exposure_model_parameters': {'alpha': 3, 'beta': 3},\n",
    "                        'exposure_model_truncation': {'lower': 1.2, 'upper': 1.5},\n",
    "                        'mapping_identifier_classical': ['object'],\n",
    "                        # 'mapping_identifier_Berkson': ['object'],  # alte version\n",
    "                        'mapping_identifier_Berkson': ['year','object'],  # laut code nicole\n",
    "                        'name_obs_values': 'c_classical'\n",
    "                        # 'name_obs_values': 'c_Berkson'\n",
    "                        },\n",
    "               },\n",
    "        'M4': {'E_Rn': {'classical_error': {'sd': 0.936, 'structure': 'multiplicative', 'proposal_sd': 0.12},\n",
    "                        # 'classical_error': {'sd': 0, 'structure': 'additive', 'proposal_sd': 0.1},\n",
    "                        'Berkson_error': {'sd': 0},\n",
    "                        'exposure_model_distribution': 'lognorm',\n",
    "                        'exposure_model_parameters': {'mu': 2, 'sigma': 0.8},\n",
    "                        'exposure_model_truncation': {},\n",
    "                        'mapping_identifier_classical': ['year', 'object'],\n",
    "                        'name_obs_values': 'C_Rn_obs'\n",
    "                        # 'name_obs_values': 'C_Rn_true'\n",
    "                        },\n",
    "               },\n",
    "    \n",
    "        'activity': {'phi': {'classical_error': {'sd': 0.33, 'structure': 'multiplicative', 'proposal_sd': 0.01},\n",
    "                             # 'classical_error': {'sd': 0, 'structure': 'multiplicative', 'proposal_sd': 0.1},\n",
    "                             'Berkson_error': {'sd': 0.69, 'structure': 'multiplicative', 'proposal_sd': 0.01},\n",
    "                             # 'Berkson_error': {'sd': 0, 'structure': 'multiplicative', 'proposal_sd': 0.1},\n",
    "                             'exposure_model_distribution': 'beta',\n",
    "                             'exposure_model_parameters': {'alpha': 3, 'beta': 3},\n",
    "                             'exposure_model_truncation': {'lower': 1e-10, 'upper': 1.0},\n",
    "                             'mapping_identifier_classical': ['object', 'activity'],\n",
    "                             'mapping_identifier_Berkson': ['year', 'object', 'activity'],\n",
    "                             'name_obs_values': 'f_classical'\n",
    "                             # 'name_obs_values': 'f_Berkson'\n",
    "                             },\n",
    "\n",
    "                     },\n",
    "        'working_time': {'omega': {'classical_error': {'sd': 0.04, 'structure': 'multiplicative', 'proposal_sd': 0.01},\n",
    "                                   # 'classical_error': {'sd': 0, 'structure': 'multiplicative', 'proposal_sd': 0.1},\n",
    "                                   'Berkson_error': {'sd': 0.12, 'structure': 'multiplicative', 'proposal_sd': 0.03},\n",
    "                                   # 'Berkson_error': {'sd': 0, 'structure': 'multiplicative', 'proposal_sd': 0.1},\n",
    "                                   'exposure_model_distribution': 'beta',\n",
    "                                   'exposure_model_parameters': {'alpha': 3, 'beta': 3},\n",
    "                                   'exposure_model_truncation': {'lower': 0.88, 'upper': 1.2},\n",
    "                                   'mapping_identifier_classical': ['w_period'],\n",
    "                                   'mapping_identifier_Berkson': ['year', 'object'],  # kann potentiell eine liste mit bis zu 3 strigs sein\n",
    "                                   'name_obs_values': 'w_classical'\n",
    "                                   # 'name_obs_values': 'w_Berkson'\n",
    "                                   }\n",
    "                         },\n",
    "        'equilibrium': {'gamma': {'classical_error': {'sd': 0.23, 'structure': 'multiplicative', 'proposal_sd': 0.01},\n",
    "                                  # 'classical_error': {'sd': 0, 'structure': 'multiplicative', 'proposal_sd': 0.01},\n",
    "                                  'Berkson_error': {'sd': 0.69, 'structure': 'multiplicative', 'proposal_sd': 0.1},\n",
    "                                  # 'Berkson_error': {'sd': 0, 'structure': 'multiplicative', 'proposal_sd': 0.1},\n",
    "                                  'exposure_model_distribution': 'beta',\n",
    "                                  'exposure_model_parameters': {'alpha': 3, 'beta': 3},\n",
    "                                  'exposure_model_truncation': {'lower': 0.2, 'upper': 0.6},\n",
    "                                  'mapping_identifier_classical': ['g_period', 'object'],\n",
    "                                  'mapping_identifier_Berkson': ['year', 'object'], \n",
    "                                  'name_obs_values': 'g_classical'\n",
    "                                  # 'name_obs_values': 'g_Berkson'\n",
    "                                  },\n",
    "                        },\n",
    "        }"
   ]
  },
  {
   "cell_type": "markdown",
   "id": "970f0251-0b39-4436-aee7-21ed8de41798",
   "metadata": {
    "tags": []
   },
   "source": [
    "# # # #  only one chain\n",
    "# data = basics.read_data(path + \"../data/M1M2M2_ExpertM3M4-b3-10/Data_1.csv\")\n",
    "data = basics.read_data(\"/raid/CLOUD/REHMS-HOEPLER/data/tmp/Data_cox_normal_sd1.csv\")\n",
    "\n",
    "data['tau'] = 1\n",
    "\n",
    "disease_model = \"cox_like\"\n",
    "chain = 'chain1'\n",
    "seed = 123\n",
    "start_values = generate_start_values(seed=seed, chain=chain, disease_model=disease_model)\n",
    "proposal_sd = generate_proposal_sds()\n",
    "prior_parameters = generate_prior_parameters()\n",
    "\n",
    "s = np.array([0, 40, 55, 75, 104])\n",
    "path_results = path + '../results/simulation_study/b3-10/'\n",
    "mcmc = MCMC(data=data, uncertainty_characteristics=uncertainty_characteristics,\n",
    "            s=s, path_results=path_results, proposal_sd=proposal_sd,\n",
    "            prior_parameters=prior_parameters, start_values=start_values,\n",
    "            informative_priors=False, chain=chain,\n",
    "            disease_model=disease_model, fixed_parameters=False)\n",
    "\n",
    "iterations = 3; burnin = 1; phases = 1; thin = 1\n",
    "mcmc.run_adaptive_algorithm(iterations=iterations, burnin=burnin,\n",
    "                            adaptive_phases=phases, save_chains=True,\n",
    "                            thin=thin)\n",
    "\n",
    "x = np.genfromtxt(path_results + 'chain1_results_beta.txt', delimiter=',')\n",
    "plt.plot(x); plt.show()"
   ]
  },
  {
   "cell_type": "markdown",
   "id": "ea9a32c9-296b-431c-b683-cd5fe2bb3378",
   "metadata": {},
   "source": [
    "### Define function to run one chain on one dataset"
   ]
  },
  {
   "cell_type": "code",
   "execution_count": 7,
   "id": "fc8064c5-0648-4f60-9651-ee4c56000217",
   "metadata": {
    "tags": []
   },
   "outputs": [],
   "source": [
    "def run_dataset(nb, seed, chain):\n",
    "    data = basics.read_data(path + f\"../data/M1M2M2_ExpertM3M4-b6-10/Data_{nb}.csv\")\n",
    "    data['tau'] = 1\n",
    "    path_results = path + f'../results/simulation_study/noninformative_prior/{nb}/'\n",
    "    # print(path_results)\n",
    "    os.makedirs(path_results, exist_ok=True)\n",
    "\n",
    "    disease_model = 'cox_like'\n",
    "\n",
    "    start_values = generate_start_values(seed, chain, disease_model)\n",
    "    proposal_sd = generate_proposal_sds()\n",
    "    prior_parameters = generate_prior_parameters()\n",
    "    s = np.array([0, 40, 55, 75, 104])\n",
    "\n",
    "    mcmc = MCMC(data=data,uncertainty_characteristics=uncertainty_characteristics, s=s, path_results=path_results, proposal_sd=proposal_sd,\n",
    "            prior_parameters=prior_parameters, start_values=start_values,\n",
    "            informative_priors=False, chain=chain, \n",
    "            disease_model=disease_model, fixed_parameters=False)\n",
    "\n",
    "\n",
    "    iterations = 100_000; burnin = 20_000; phases = 100; thin = 100\n",
    "    # iterations = 20_000; burnin = 5_000; phases = 100; thin = 100\n",
    "    # iterations = 5; burnin = 1; phases = 0; thin = 1\n",
    "    mcmc.run_adaptive_algorithm(iterations=iterations,\n",
    "                                burnin=burnin,\n",
    "                                adaptive_phases=phases,\n",
    "                                thin=thin,\n",
    "                                clear_display=True\n",
    "                               )"
   ]
  },
  {
   "cell_type": "markdown",
   "id": "a5fc1f6e-102c-46cd-8116-cf1ec2c81211",
   "metadata": {},
   "source": [
    "### Run 4 chains on 1 datasets"
   ]
  },
  {
   "cell_type": "code",
   "execution_count": 8,
   "id": "2c04464b-3f86-4d65-936e-797edf8a7e13",
   "metadata": {
    "tags": []
   },
   "outputs": [
    {
     "data": {
      "text/plain": [
       "[(1, 3589890821, 'chain1'),\n",
       " (1, 2035515676, 'chain2'),\n",
       " (1, 4265868931, 'chain3'),\n",
       " (1, 4198680161, 'chain4')]"
      ]
     },
     "execution_count": 8,
     "metadata": {},
     "output_type": "execute_result"
    }
   ],
   "source": [
    "nb_data_sets = 1\n",
    "# cores = 140\n",
    "cores = 4\n",
    "\n",
    "nb_chains = 4\n",
    "\n",
    "datasets = list(range(1,nb_data_sets+1))*nb_chains\n",
    "seeds = np.random.randint(2**32-1, size=nb_data_sets*nb_chains)\n",
    "# chains = [*[\"chain1\"]*nb_data_sets, *[\"chain2\"]*nb_data_sets,  *[\"chain3\"]*nb_data_sets,  *[\"chain4\"]*nb_data_sets]\n",
    "chains = [f\"chain{i}\" for i in range(1,21)]\n",
    "arg_list = list(zip(datasets, seeds, chains))\n",
    "warnings.filterwarnings('ignore')\n",
    "arg_list"
   ]
  },
  {
   "cell_type": "code",
   "execution_count": null,
   "id": "b01460ba-fc2e-4272-a4c4-a229112f4820",
   "metadata": {
    "tags": []
   },
   "outputs": [
    {
     "name": "stdout",
     "output_type": "stream",
     "text": [
      "Adaptive phase 17\n"
     ]
    }
   ],
   "source": [
    "t = time.time()\n",
    "with multiprocessing.Pool(cores) as pool:\n",
    "    res = pool.starmap(run_dataset, arg_list)\n",
    "t = time.time() - t\n",
    "print(\"Full calculation time: \" + str(time.time() - t))\n",
    "print(f\"Time in hours: {t/3600}\")"
   ]
  },
  {
   "cell_type": "code",
   "execution_count": 12,
   "id": "0041d99a-495f-4944-b8ef-0325d322fe0c",
   "metadata": {},
   "outputs": [
    {
     "name": "stdout",
     "output_type": "stream",
     "text": [
      "Full calculation time: 1718961268.8228252\n",
      "Time in hours: 0.008120857940779791\n"
     ]
    }
   ],
   "source": [
    "print(\"Full calculation time: \" + str(time.time() - t))\n",
    "print(f\"Time in hours: {t/3600}\")\n",
    "# Full calculation time: 1716496781.6781082\n",
    "# Time in hours: 133.95488233844438"
   ]
  },
  {
   "cell_type": "markdown",
   "id": "ae7a04be-d20d-4764-a526-3fa87ba6b6e2",
   "metadata": {
    "tags": []
   },
   "source": [
    "## Load results and make diagnostics"
   ]
  },
  {
   "cell_type": "code",
   "execution_count": 2,
   "id": "043c22fd-1c88-4f3b-84be-49efb9abe32a",
   "metadata": {
    "tags": []
   },
   "outputs": [
    {
     "name": "stdout",
     "output_type": "stream",
     "text": [
      "dict_keys([1])\n"
     ]
    }
   ],
   "source": [
    "samples = ac.load_traces_parameter(\"beta.txt\", \"../results/simulation_study/noninformative_prior/\")"
   ]
  },
  {
   "cell_type": "code",
   "execution_count": 3,
   "id": "7ae42459-ca4d-4035-ac7e-3a0e121e9942",
   "metadata": {
    "tags": []
   },
   "outputs": [
    {
     "data": {
      "text/plain": [
       "{1: Inference data with groups:\n",
       " \t> posterior}"
      ]
     },
     "execution_count": 3,
     "metadata": {},
     "output_type": "execute_result"
    }
   ],
   "source": [
    "samples"
   ]
  },
  {
   "cell_type": "code",
   "execution_count": 4,
   "id": "c5be5063-8491-4102-add4-9958921f6d5b",
   "metadata": {
    "tags": []
   },
   "outputs": [
    {
     "ename": "TypeError",
     "evalue": "'SubFigure' object does not support item assignment",
     "output_type": "error",
     "traceback": [
      "\u001b[0;31m---------------------------------------------------------------------------\u001b[0m",
      "\u001b[0;31mTypeError\u001b[0m                                 Traceback (most recent call last)",
      "Cell \u001b[0;32mIn[4], line 1\u001b[0m\n\u001b[0;32m----> 1\u001b[0m \u001b[43mac\u001b[49m\u001b[38;5;241;43m.\u001b[39;49m\u001b[43mplot_chains_sim\u001b[49m\u001b[43m(\u001b[49m\u001b[43msamples\u001b[49m\u001b[43m,\u001b[49m\u001b[43m \u001b[49m\u001b[43m(\u001b[49m\u001b[38;5;241;43m0\u001b[39;49m\u001b[43m,\u001b[49m\u001b[38;5;241;43m1\u001b[39;49m\u001b[43m)\u001b[49m\u001b[43m)\u001b[49m\n",
      "File \u001b[0;32m/raid/CLOUD/REHMS-HOEPLER/simulation_study/../wismut/analyze_chains.py:68\u001b[0m, in \u001b[0;36mplot_chains_sim\u001b[0;34m(samples, num, trace, **kwargs)\u001b[0m\n\u001b[1;32m     66\u001b[0m subfigs \u001b[38;5;241m=\u001b[39m fig\u001b[38;5;241m.\u001b[39msubfigures(num[\u001b[38;5;241m1\u001b[39m], \u001b[38;5;241m1\u001b[39m)\n\u001b[1;32m     67\u001b[0m \u001b[38;5;28;01mfor\u001b[39;00m i \u001b[38;5;129;01min\u001b[39;00m \u001b[38;5;28mrange\u001b[39m(\u001b[38;5;241m*\u001b[39mnum):\n\u001b[0;32m---> 68\u001b[0m     \u001b[43msubfigs\u001b[49m\u001b[43m[\u001b[49m\u001b[43mi\u001b[49m\u001b[43m]\u001b[49m \u001b[38;5;241m=\u001b[39m az\u001b[38;5;241m.\u001b[39mplot_trace(samples[i\u001b[38;5;241m+\u001b[39m\u001b[38;5;241m1\u001b[39m])\n\u001b[1;32m     69\u001b[0m \u001b[38;5;28;01mreturn\u001b[39;00m \u001b[38;5;28;01mNone\u001b[39;00m\n",
      "\u001b[0;31mTypeError\u001b[0m: 'SubFigure' object does not support item assignment"
     ]
    },
    {
     "data": {
      "text/plain": [
       "<Figure size 640x480 with 0 Axes>"
      ]
     },
     "metadata": {},
     "output_type": "display_data"
    },
    {
     "data": {
      "image/png": "[encoded data removed]",
      "text/plain": [
       "<Figure size 1200x200 with 2 Axes>"
      ]
     },
     "metadata": {},
     "output_type": "display_data"
    }
   ],
   "source": [
    "ac.plot_chains_sim(samples, (0,1))"
   ]
  },
  {
   "cell_type": "code",
   "execution_count": null,
   "id": "ac2ce20b-4061-4044-ac6f-48161e816106",
   "metadata": {
    "tags": []
   },
   "outputs": [],
   "source": [
    "# Check results\n",
    "res_reduced = ac.reduce_results(samples, (1,101))\n",
    "inside = [ac.check_inside(0.6, res_reduced[k][\"hdi\"]) for k in range(1,101)]\n",
    "means = [res_reduced[k][\"mean\"] for k in range(1,101)]\n",
    "\n",
    "print(f\"Overalll mean: {np.array(means).mean()}\")\n",
    "print(f\"Valids: {np.array(inside).mean()}\")\n",
    "print(f\"Rhats: {np.sort(np.concatenate([x.to_array().to_numpy() for x in ac.calc_rhat(samples, (1,101), simplify=True)]))}\")"
   ]
  },
  {
   "cell_type": "markdown",
   "id": "467ce34a-20e4-4f0e-8257-6fbc8da8b657",
   "metadata": {},
   "source": [
    "### Lambda"
   ]
  },
  {
   "cell_type": "code",
   "execution_count": 7,
   "id": "60945298-176e-42b0-97a7-1ec44db5aca2",
   "metadata": {
    "tags": []
   },
   "outputs": [
    {
     "name": "stdout",
     "output_type": "stream",
     "text": [
      "dict_keys([1, 2, 3, 4, 5, 6, 7, 8, 9, 10, 11, 12, 13, 14, 15, 16, 17, 18, 19, 20, 21, 22, 23, 24, 25, 26, 27, 28, 29, 30, 31, 32, 33, 34, 35, 36, 37, 38, 39, 40, 41, 42, 43, 44, 45, 46, 47, 48, 49, 50, 51, 52, 53, 54, 55, 56, 57, 58, 59, 60, 61, 62, 63, 64, 65, 66, 67, 68, 69, 70, 71, 72, 73, 74, 75, 76, 77, 78, 79, 80, 81, 82, 83, 84, 85, 86, 87, 88, 89, 90, 91, 92, 93, 94, 95, 96, 97, 98, 99, 100])\n",
      "dict_keys([1, 2, 3, 4, 5, 6, 7, 8, 9, 10, 11, 12, 13, 14, 15, 16, 17, 18, 19, 20, 21, 22, 23, 24, 25, 26, 27, 28, 29, 30, 31, 32, 33, 34, 35, 36, 37, 38, 39, 40, 41, 42, 43, 44, 45, 46, 47, 48, 49, 50, 51, 52, 53, 54, 55, 56, 57, 58, 59, 60, 61, 62, 63, 64, 65, 66, 67, 68, 69, 70, 71, 72, 73, 74, 75, 76, 77, 78, 79, 80, 81, 82, 83, 84, 85, 86, 87, 88, 89, 90, 91, 92, 93, 94, 95, 96, 97, 98, 99, 100])\n",
      "dict_keys([1, 2, 3, 4, 5, 6, 7, 8, 9, 10, 11, 12, 13, 14, 15, 16, 17, 18, 19, 20, 21, 22, 23, 24, 25, 26, 27, 28, 29, 30, 31, 32, 33, 34, 35, 36, 37, 38, 39, 40, 41, 42, 43, 44, 45, 46, 47, 48, 49, 50, 51, 52, 53, 54, 55, 56, 57, 58, 59, 60, 61, 62, 63, 64, 65, 66, 67, 68, 69, 70, 71, 72, 73, 74, 75, 76, 77, 78, 79, 80, 81, 82, 83, 84, 85, 86, 87, 88, 89, 90, 91, 92, 93, 94, 95, 96, 97, 98, 99, 100])\n",
      "dict_keys([1, 2, 3, 4, 5, 6, 7, 8, 9, 10, 11, 12, 13, 14, 15, 16, 17, 18, 19, 20, 21, 22, 23, 24, 25, 26, 27, 28, 29, 30, 31, 32, 33, 34, 35, 36, 37, 38, 39, 40, 41, 42, 43, 44, 45, 46, 47, 48, 49, 50, 51, 52, 53, 54, 55, 56, 57, 58, 59, 60, 61, 62, 63, 64, 65, 66, 67, 68, 69, 70, 71, 72, 73, 74, 75, 76, 77, 78, 79, 80, 81, 82, 83, 84, 85, 86, 87, 88, 89, 90, 91, 92, 93, 94, 95, 96, 97, 98, 99, 100])\n",
      "Rhats lambda1: [1.00159389 1.00787565 1.00100837 1.00152201 0.99989772 1.00101499\n",
      " 1.00183837 1.00393505 1.00150931 1.00041874 1.00277593 0.99968597\n",
      " 0.99973209 1.00004845 1.00041639 1.00301054 0.99996041 1.00398109\n",
      " 1.00135865 1.00262984 1.00697923 1.00254752 1.00052898 1.00091356\n",
      " 1.0005709  1.0057787  1.00305349 1.00074417 1.00576848 1.00446091\n",
      " 1.00245922 1.00396307 1.00139992 1.00520268 1.00637034 1.00072767\n",
      " 1.00029025 1.00086226 1.00021758 1.00041375 1.00287305 1.00395148\n",
      " 1.00014778 1.00169081 1.00105851 1.00059787 1.0029576  1.00199396\n",
      " 1.00186342 1.00272978 1.00210322 1.00318731 1.00280337 1.00003458\n",
      " 1.00022236 1.00265429 1.00593457 1.00030777 1.0023392  1.00353415\n",
      " 1.00038637 1.00018622 1.00075286 1.00082532 1.00088707 1.00082433\n",
      " 1.00347072 1.00379043 1.00012992 1.00087292 1.00032076 1.00077096\n",
      " 1.00004785 1.00250225 1.00110437 1.00336098 1.0020242  1.00157475\n",
      " 1.00012666 1.00252236 1.00436386 1.00108725 1.00290189 1.00114809\n",
      " 1.00102244 1.00107545 1.0030637  1.00315926 1.00393874 1.00111604\n",
      " 1.00135105 1.00051278 1.0031193  1.00533343 1.00078744 1.0030584\n",
      " 1.00011827 1.00047687 1.00198783 1.00000005]\n",
      "Rhats lambda2: [0.9999827  1.00159443 1.00254666 1.00262399 1.00183125 1.00415701\n",
      " 1.00013238 1.00406349 1.00520111 1.000852   1.00450937 1.00316721\n",
      " 1.00781136 1.00474142 1.00384082 1.00053414 0.99983893 1.00150859\n",
      " 1.00205669 1.00498163 1.00483266 1.00362653 1.00104127 1.00558804\n",
      " 1.00361864 1.00165415 1.00455837 1.00149894 1.00213663 1.01098748\n",
      " 0.99938197 1.00197248 1.00139534 1.00126772 1.00232703 1.00238703\n",
      " 1.00417067 1.00106164 1.00343955 1.00427982 1.00088811 1.00134493\n",
      " 1.0017068  1.00009579 1.00275963 1.00521832 1.00273489 1.00231723\n",
      " 1.00184956 1.00375675 1.00163516 1.00304471 1.00655098 1.00074152\n",
      " 1.00118617 1.00941293 1.00271127 1.00272192 1.00321932 1.00366041\n",
      " 1.00028829 1.00222203 1.00604603 1.00167631 1.0020376  1.00541422\n",
      " 1.00491118 1.00651    1.00113253 1.00245039 1.00132552 1.00191564\n",
      " 1.00198914 1.00267821 1.00077868 1.00063882 1.0028047  1.00348204\n",
      " 1.00154006 1.00123488 1.00640841 1.00458926 1.00815737 1.0012457\n",
      " 1.00138301 1.00178362 1.00001309 1.00626604 1.00161956 1.0027692\n",
      " 1.00122668 1.00207673 1.00398077 0.99975982 1.00326155 1.00454042\n",
      " 1.00179888 1.00140604 1.00894476 1.00257367]\n",
      "Rhats lambda3: [1.00107285 1.00335549 1.00155306 1.00856039 1.00146375 1.00550662\n",
      " 0.99998311 1.00069559 1.0147042  1.00346642 1.00668151 1.00039996\n",
      " 1.00746981 1.00679887 1.00534684 1.0089639  1.00468502 1.01086912\n",
      " 1.00523135 1.00497706 1.00617019 1.01566375 1.00306341 1.00885379\n",
      " 1.01013062 1.00157182 1.00600197 1.00884746 1.00173269 1.00536086\n",
      " 1.00274112 1.00761903 1.00466916 1.00205997 1.00266709 1.00389888\n",
      " 1.00626974 1.00683958 1.01323624 1.00977649 1.00481646 1.00451836\n",
      " 1.002204   1.00385154 1.00256218 1.00384529 1.00624952 1.00143025\n",
      " 1.00522146 1.01490197 1.00204284 1.02111022 1.00300178 1.00621097\n",
      " 1.00114438 1.01197714 1.00926864 1.0043389  1.00318993 1.00492765\n",
      " 1.00072048 1.00792494 1.00589541 1.01003097 1.0021345  1.01107601\n",
      " 1.00448874 1.01361958 1.00352641 1.00671248 1.00684315 1.0077232\n",
      " 1.0045068  1.02042895 1.00448311 1.00150201 1.00227304 1.00366697\n",
      " 1.0060641  1.0000763  1.01822351 1.01169228 1.01326923 1.00453187\n",
      " 1.00336009 1.00929029 1.00458221 1.00443021 1.00418034 1.0064518\n",
      " 1.0050107  1.00818262 1.01070133 1.00454644 1.0012284  1.0040544\n",
      " 1.00244553 1.00448691 1.01677167 1.00135314]\n",
      "Rhats lambda4: [1.00163504 1.00403881 1.00338777 1.00930441 1.00316    1.00846937\n",
      " 1.00315779 1.00183119 1.01414944 1.00546447 1.00832933 1.00024464\n",
      " 1.00369293 1.00642087 1.00961612 1.01511206 1.00562914 1.01111478\n",
      " 1.00722961 1.00386448 1.00598136 1.01313653 1.00663378 1.01398825\n",
      " 1.01078432 1.00137856 1.01017992 1.01115179 1.00821165 1.00660692\n",
      " 1.00715691 1.00766809 1.00277871 1.00566804 1.00399356 1.01060623\n",
      " 1.0104584  1.00980636 1.0118417  1.01403988 1.00698651 1.00512187\n",
      " 1.00342751 1.00434686 1.00399414 1.00465771 1.00441412 1.00416481\n",
      " 1.0041309  1.03020354 1.0012236  1.0235031  1.00561703 1.0055535\n",
      " 1.00081837 1.01331071 1.00824044 1.00571853 1.00892881 1.00778123\n",
      " 1.00389027 1.00867166 1.01115306 1.00894768 1.00958454 1.02151572\n",
      " 1.00516086 1.01358088 1.00469607 1.00867093 1.01207387 1.00339256\n",
      " 1.00292391 1.01991308 1.00459958 1.00812822 1.00433236 1.00423701\n",
      " 1.00555755 1.00150485 1.02138944 1.02094468 1.01077664 1.00988504\n",
      " 1.00420508 1.00522714 1.0053347  1.00766789 1.00861099 1.00897663\n",
      " 1.00518335 1.01203964 1.01179678 1.0073189  1.00200618 1.00751139\n",
      " 1.00107041 1.00715776 1.02414157 1.00070749]\n"
     ]
    }
   ],
   "source": [
    "l1 = ac.load_traces_parameter(\"lambda1.txt\", \"../results/simulation_study/b6-10/\")\n",
    "l2 = ac.load_traces_parameter(\"lambda2.txt\", \"../results/simulation_study/b6-10/\")\n",
    "l3 = ac.load_traces_parameter(\"lambda3.txt\", \"../results/simulation_study/b6-10/\")\n",
    "l4 = ac.load_traces_parameter(\"lambda4.txt\", \"../results/simulation_study/b6-10/\")\n",
    "\n",
    "print(f\"Rhats lambda1: {np.concatenate([x.to_array().to_numpy() for x in ac.calc_rhat(l1, (1,101), simplify=True)])}\")\n",
    "print(f\"Rhats lambda2: {np.concatenate([x.to_array().to_numpy() for x in ac.calc_rhat(l2, (1,101), simplify=True)])}\")\n",
    "print(f\"Rhats lambda3: {np.concatenate([x.to_array().to_numpy() for x in ac.calc_rhat(l3, (1,101), simplify=True)])}\")\n",
    "print(f\"Rhats lambda4: {np.concatenate([x.to_array().to_numpy() for x in ac.calc_rhat(l4, (1,101), simplify=True)])}\")"
   ]
  },
  {
   "cell_type": "code",
   "execution_count": 8,
   "id": "cd5eb44b-a3ec-404b-acbe-03bffc884bd5",
   "metadata": {
    "tags": []
   },
   "outputs": [
    {
     "name": "stdout",
     "output_type": "stream",
     "text": [
      "Overalll mean: 6.162109547350506e-05\n",
      "Overalll mean: 0.0012222506688167136\n",
      "Overalll mean: 0.004633597468629038\n",
      "Overalll mean: 0.010040703214217852\n"
     ]
    }
   ],
   "source": [
    "l1_reduced = ac.reduce_results(l1, (1,101))\n",
    "l2_reduced = ac.reduce_results(l2, (1,101))\n",
    "l3_reduced = ac.reduce_results(l3, (1,101))\n",
    "l4_reduced = ac.reduce_results(l4, (1,101))\n",
    "\n",
    "l1_means = [l1_reduced[k][\"mean\"] for k in range(1,101)]\n",
    "l2_means = [l2_reduced[k][\"mean\"] for k in range(1,101)]\n",
    "l3_means = [l3_reduced[k][\"mean\"] for k in range(1,101)]\n",
    "l4_means = [l4_reduced[k][\"mean\"] for k in range(1,101)]\n",
    "\n",
    "print(f\"Overalll mean: {np.array(l1_means).mean()}\")\n",
    "print(f\"Overalll mean: {np.array(l2_means).mean()}\")\n",
    "print(f\"Overalll mean: {np.array(l3_means).mean()}\")\n",
    "print(f\"Overalll mean: {np.array(l4_means).mean()}\")"
   ]
  }
 ],
 "metadata": {
  "kernelspec": {
   "display_name": "Python 3 (ipykernel)",
   "language": "python",
   "name": "python3"
  },
  "language_info": {
   "codemirror_mode": {
    "name": "ipython",
    "version": 3
   },
   "file_extension": ".py",
   "mimetype": "text/x-python",
   "name": "python",
   "nbconvert_exporter": "python",
   "pygments_lexer": "ipython3",
   "version": "3.9.17"
  }
 },
 "nbformat": 4,
 "nbformat_minor": 5
}
